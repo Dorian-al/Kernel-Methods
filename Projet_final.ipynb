{
 "cells": [
  {
   "cell_type": "code",
   "execution_count": 2,
   "metadata": {},
   "outputs": [],
   "source": [
    "import numpy as np\n",
    "import matplotlib.pyplot as plt\n",
    "import pandas as pd\n",
    "\n",
    "import cvxopt\n",
    "from cvxopt import matrix as cvxopt_matrix\n",
    "from cvxopt import solvers as cvxopt_solvers"
   ]
  },
  {
   "cell_type": "code",
   "execution_count": null,
   "metadata": {},
   "outputs": [],
   "source": [
    "#cvxopt_solvers.options['show_progress'] = False\n",
    "#solvers.options['show_progress'] = True"
   ]
  },
  {
   "cell_type": "markdown",
   "metadata": {},
   "source": [
    "# Importations dataframe"
   ]
  },
  {
   "cell_type": "code",
   "execution_count": null,
   "metadata": {},
   "outputs": [],
   "source": [
    "Xtr0_mat100 = pd.read_csv(\"/Users/dorian/Downloads/machine-learning-with-kernel-methods-2021/Xtr0_mat100.csv\"\n",
    "                          , header=None, sep = ' ')\n",
    "\n",
    "Xtr1_mat100 = pd.read_csv(\"/Users/dorian/Downloads/machine-learning-with-kernel-methods-2021/Xtr1_mat100.csv\"\n",
    "                          , header=None, sep = ' ')\n",
    "\n",
    "Xtr2_mat100 = pd.read_csv(\"/Users/dorian/Downloads/machine-learning-with-kernel-methods-2021/Xtr2_mat100.csv\"\n",
    "                          , header=None, sep = ' ')\n",
    "\n",
    "Ytr0 = pd.read_csv(\"/Users/dorian/Downloads/machine-learning-with-kernel-methods-2021/Ytr0.csv\")\n",
    "\n",
    "Ytr1 = pd.read_csv(\"/Users/dorian/Downloads/machine-learning-with-kernel-methods-2021/Ytr1.csv\")\n",
    "\n",
    "Ytr2 = pd.read_csv(\"/Users/dorian/Downloads/machine-learning-with-kernel-methods-2021/Ytr2.csv\")\n",
    "\n",
    "Xte0_mat100 = pd.read_csv(\"/Users/dorian/Downloads/machine-learning-with-kernel-methods-2021/Xte0_mat100.csv\", \n",
    "                         header=None, sep = ' ')\n",
    "\n",
    "Xte1_mat100 = pd.read_csv(\"/Users/dorian/Downloads/machine-learning-with-kernel-methods-2021/Xte1_mat100.csv\", \n",
    "                         header=None, sep = ' ')\n",
    "\n",
    "Xte2_mat100 = pd.read_csv(\"/Users/dorian/Downloads/machine-learning-with-kernel-methods-2021/Xte2_mat100.csv\", \n",
    "                         header=None, sep = ' ')\n",
    "\n",
    "### Conversion en nd.array\n",
    "Xtr0_mat100 = Xtr0_mat100.to_numpy()\n",
    "Xtr1_mat100 = Xtr1_mat100.to_numpy()\n",
    "Xtr2_mat100 = Xtr2_mat100.to_numpy()\n",
    "\n",
    "Xte0_mat100 = Xte0_mat100.to_numpy()\n",
    "Xte1_mat100 = Xte1_mat100.to_numpy()\n",
    "Xte2_mat100 = Xte2_mat100.to_numpy()\n",
    "\n",
    "Y0 = Ytr0['Bound'].to_numpy()\n",
    "Y1 = Ytr1['Bound'].to_numpy()\n",
    "Y2 = Ytr2['Bound'].to_numpy()\n",
    "\n",
    "X0 =np.concatenate((Xtr0_mat100, Xte0_mat100), axis=0)\n",
    "X1 =np.concatenate((Xtr1_mat100, Xte1_mat100), axis=0)\n",
    "X2 =np.concatenate((Xtr2_mat100, Xte2_mat100), axis=0)"
   ]
  },
  {
   "cell_type": "code",
   "execution_count": 86,
   "metadata": {},
   "outputs": [],
   "source": [
    "chemin = \"/users/dorian/Documents/M2_MASH/Kernel Methods/Data/\"\n",
    "training = pd.read_csv(chemin + \"Xtr0.csv\")\n",
    "training2 = pd.read_csv(chemin + \"Xtr1.csv\")\n",
    "training3 = pd.read_csv(chemin + \"Xtr2.csv\")\n",
    "\n",
    "label = pd.read_csv(chemin + \"Ytr0.csv\")\n",
    "label2 = pd.read_csv(chemin + \"Ytr1.csv\")\n",
    "label3 = pd.read_csv(chemin + \"Ytr2.csv\")\n",
    "\n",
    "test = pd.read_csv(chemin + \"Xte0.csv\")\n",
    "test2 = pd.read_csv(chemin + \"Xte1.csv\")\n",
    "test3 = pd.read_csv(chemin + \"Xte2.csv\")"
   ]
  },
  {
   "cell_type": "code",
   "execution_count": 96,
   "metadata": {},
   "outputs": [
    {
     "data": {
      "text/html": [
       "<div>\n",
       "<style scoped>\n",
       "    .dataframe tbody tr th:only-of-type {\n",
       "        vertical-align: middle;\n",
       "    }\n",
       "\n",
       "    .dataframe tbody tr th {\n",
       "        vertical-align: top;\n",
       "    }\n",
       "\n",
       "    .dataframe thead th {\n",
       "        text-align: right;\n",
       "    }\n",
       "</style>\n",
       "<table border=\"1\" class=\"dataframe\">\n",
       "  <thead>\n",
       "    <tr style=\"text-align: right;\">\n",
       "      <th></th>\n",
       "      <th>Id</th>\n",
       "      <th>seq</th>\n",
       "    </tr>\n",
       "  </thead>\n",
       "  <tbody>\n",
       "    <tr>\n",
       "      <th>0</th>\n",
       "      <td>0</td>\n",
       "      <td>AAGGCCGAGCCCGGCGCGGACGCAGGCGGCTCCGGGCGGGCTCAGC...</td>\n",
       "    </tr>\n",
       "    <tr>\n",
       "      <th>1</th>\n",
       "      <td>1</td>\n",
       "      <td>TCTGGGCTCTTAATGTAAAGGTTGCCACTGATGCTGTGTCACCAGC...</td>\n",
       "    </tr>\n",
       "    <tr>\n",
       "      <th>2</th>\n",
       "      <td>2</td>\n",
       "      <td>GCCCGCACCGCTGGGCTATTTTTAGCGTCCACTAAACTTAGCCGAC...</td>\n",
       "    </tr>\n",
       "    <tr>\n",
       "      <th>3</th>\n",
       "      <td>3</td>\n",
       "      <td>GAGGCGCTGGCAATGGACTAGGAAGCTCGGCTGCCGCTGCTACTGC...</td>\n",
       "    </tr>\n",
       "    <tr>\n",
       "      <th>4</th>\n",
       "      <td>4</td>\n",
       "      <td>GGCGAGACTCCATCTCTACAGAAAATTTTTTTAAAAATTAGCTGGA...</td>\n",
       "    </tr>\n",
       "  </tbody>\n",
       "</table>\n",
       "</div>"
      ],
      "text/plain": [
       "   Id                                                seq\n",
       "0   0  AAGGCCGAGCCCGGCGCGGACGCAGGCGGCTCCGGGCGGGCTCAGC...\n",
       "1   1  TCTGGGCTCTTAATGTAAAGGTTGCCACTGATGCTGTGTCACCAGC...\n",
       "2   2  GCCCGCACCGCTGGGCTATTTTTAGCGTCCACTAAACTTAGCCGAC...\n",
       "3   3  GAGGCGCTGGCAATGGACTAGGAAGCTCGGCTGCCGCTGCTACTGC...\n",
       "4   4  GGCGAGACTCCATCTCTACAGAAAATTTTTTTAAAAATTAGCTGGA..."
      ]
     },
     "execution_count": 96,
     "metadata": {},
     "output_type": "execute_result"
    }
   ],
   "source": [
    "test.head()"
   ]
  },
  {
   "cell_type": "code",
   "execution_count": 14,
   "metadata": {},
   "outputs": [],
   "source": [
    "def transcription(ADN):\n",
    "    Tr =[]\n",
    "    for g in ADN:\n",
    "        if g ==\"A\":\n",
    "            Tr.append(1)\n",
    "            Tr.append(0)\n",
    "            Tr.append(0)\n",
    "            Tr.append(0)\n",
    "        elif g == \"C\":\n",
    "            Tr.append(0)\n",
    "            Tr.append(1)\n",
    "            Tr.append(0)\n",
    "            Tr.append(0)\n",
    "        elif g ==\"G\":\n",
    "            Tr.append(0)\n",
    "            Tr.append(0)\n",
    "            Tr.append(1)\n",
    "            Tr.append(0)\n",
    "        else:\n",
    "            Tr.append(0)\n",
    "            Tr.append(0)\n",
    "            Tr.append(0)\n",
    "            Tr.append(1)\n",
    "    return Tr\n",
    "            "
   ]
  },
  {
   "cell_type": "code",
   "execution_count": 482,
   "metadata": {},
   "outputs": [],
   "source": [
    "def Ridge(K,y,lbd):\n",
    "    n = y.shape[0]\n",
    "    alpha = np.linalg.inv(K+n*lbd*np.eye(n)).dot(y)\n",
    "    \n",
    "    return(K.dot(alpha))\n",
    "\n",
    "def get_alpha(K,y,lbd):\n",
    "    n = y.shape[0]\n",
    "    alpha = np.linalg.inv(K+n*lbd*np.eye(n)).dot(y)\n",
    "    \n",
    "    return(alpha)\n",
    "\n",
    "def gaussK(x,y,alpha):\n",
    "    return np.exp(-alpha*np.linalg.norm(x-y,2)**2)\n",
    "\n",
    "n,p = training.shape"
   ]
  },
  {
   "cell_type": "code",
   "execution_count": 645,
   "metadata": {},
   "outputs": [],
   "source": [
    "y = label.iloc[:,1].to_numpy()\n",
    "y2 = label2.iloc[:,1].to_numpy()\n",
    "y3 = label3.iloc[:,1].to_numpy()\n",
    "\n",
    "Xbis = np.zeros((n,4*101))   #Decalage des indices, Xbis pour X1 en vrai\n",
    "Xter = np.zeros((n,4*101))\n",
    "X3 = np.zeros((n,4*101))\n",
    "\n",
    "for i in range(n):\n",
    "    Xbis[i,] = transcription(training.iloc[i,1])\n",
    "    Xter[i,] = transcription(training2.iloc[i,1])\n",
    "    X3[i,] = transcription(training3.iloc[i,1])\n",
    "    "
   ]
  },
  {
   "cell_type": "code",
   "execution_count": 568,
   "metadata": {},
   "outputs": [],
   "source": [
    "n_bis = test.shape[0]\n",
    "n_bis\n",
    "\n",
    "Xtest1 = np.zeros((n_bis,4*101))\n",
    "Xtest2 = np.zeros((n_bis,4*101))\n",
    "Xtest3 = np.zeros((n_bis,4*101))\n",
    "\n",
    "for i in range(n_bis):\n",
    "    Xtest1[i,] = transcription(test.iloc[i,1])\n",
    "    Xtest2[i,] = transcription(test2.iloc[i,1])\n",
    "    Xtest3[i,] = transcription(test3.iloc[i,1])"
   ]
  },
  {
   "cell_type": "code",
   "execution_count": 647,
   "metadata": {},
   "outputs": [],
   "source": [
    "y[y == 0] = -1\n",
    "y2[y2 == 0] = -1\n",
    "y3[y3 == 0] = -1"
   ]
  },
  {
   "cell_type": "markdown",
   "metadata": {},
   "source": [
    "## Logistic regression"
   ]
  },
  {
   "cell_type": "code",
   "execution_count": 249,
   "metadata": {},
   "outputs": [],
   "source": [
    "def solveRR(y, X, lam):\n",
    "    n,p = X.shape\n",
    "    assert (len(y) == n)\n",
    "    \n",
    "    A = X.T @ X\n",
    "    # Adjust diagonal due to Ridge\n",
    "    A[np.diag_indices_from(A)] += lam*n\n",
    "    b = X.T.dot(y)\n",
    "    \n",
    "    # Find solution to the linear system Ax = b\n",
    "    beta = np.linalg.solve(A,b)\n",
    "    return (beta)"
   ]
  },
  {
   "cell_type": "code",
   "execution_count": 250,
   "metadata": {},
   "outputs": [],
   "source": [
    "def solveWRR(y, X, w, lam):\n",
    "    y1 = np.sqrt(w)*y\n",
    "    X1 = (np.sqrt(w)*X.T).T\n",
    "    \n",
    "    beta = solveRR(y1, X1, lam)\n",
    "    return (beta)"
   ]
  },
  {
   "cell_type": "code",
   "execution_count": 251,
   "metadata": {},
   "outputs": [],
   "source": [
    "def solveLRR(y, X, lam):\n",
    "    # Parameters\n",
    "    L = 100\n",
    "    eps = 1e-3\n",
    "    sigmoid = lambda a: 1/(1+np.exp(-a))\n",
    "    n,p = X.shape\n",
    "    \n",
    "    # Initialize\n",
    "    beta = np.zeros(p)\n",
    "    \n",
    "    # Update (equiv to IRLS)\n",
    "    for k in range(L):\n",
    "        beta_old = beta\n",
    "        f = X.dot(beta_old)\n",
    "        w = sigmoid(f) * sigmoid(-f)\n",
    "        z = f + y / sigmoid(y*f)\n",
    "        beta = solveWRR(z, X, w, 2*lam)\n",
    "        if np.sum((beta-beta_old)**2) < eps:\n",
    "            break\n",
    "        \n",
    "    return (beta)"
   ]
  },
  {
   "cell_type": "code",
   "execution_count": 287,
   "metadata": {},
   "outputs": [],
   "source": [
    "beta0 = solveLRR(y,Xbis,0.002)\n",
    "beta1 = solveLRR(y2,Xter,0.002)\n",
    "beta3 = solveLRR(y3,X3,0.002)\n",
    "\n",
    "\n",
    "pred = np.log(1+np.exp(Xbis.dot(beta0)))\n",
    "pred2 = np.log(1+np.exp(Xter.dot(beta1)))\n",
    "pred3 = np.log(1+np.exp(X3.dot(beta3)))"
   ]
  },
  {
   "cell_type": "code",
   "execution_count": 288,
   "metadata": {},
   "outputs": [],
   "source": [
    "def classificate(data):\n",
    "    data[data >= 0.5] = 1\n",
    "    data[data < 0.5] = -1\n",
    "    return(data)\n",
    "\n",
    "\n",
    "pred = classificate(pred)\n",
    "pred2 = classificate(pred2)\n",
    "pred3 = classificate(pred3)"
   ]
  },
  {
   "cell_type": "code",
   "execution_count": 289,
   "metadata": {},
   "outputs": [
    {
     "data": {
      "text/plain": [
       "0.282"
      ]
     },
     "execution_count": 289,
     "metadata": {},
     "output_type": "execute_result"
    }
   ],
   "source": [
    "def error(ypred, ytrue):\n",
    "    e = (ypred != ytrue).mean()\n",
    "    return (e)\n",
    "\n",
    "error(pred,y)"
   ]
  },
  {
   "cell_type": "code",
   "execution_count": 290,
   "metadata": {},
   "outputs": [
    {
     "data": {
      "text/plain": [
       "0.354"
      ]
     },
     "execution_count": 290,
     "metadata": {},
     "output_type": "execute_result"
    }
   ],
   "source": [
    "error(pred2,y2)"
   ]
  },
  {
   "cell_type": "code",
   "execution_count": 291,
   "metadata": {},
   "outputs": [
    {
     "data": {
      "text/plain": [
       "0.243"
      ]
     },
     "execution_count": 291,
     "metadata": {},
     "output_type": "execute_result"
    }
   ],
   "source": [
    "error(pred3,y3)"
   ]
  },
  {
   "cell_type": "markdown",
   "metadata": {},
   "source": [
    "## Prediction des Test sets"
   ]
  },
  {
   "cell_type": "code",
   "execution_count": 132,
   "metadata": {},
   "outputs": [],
   "source": [
    "predT1 = np.log(1+np.exp(Xtest1.dot(beta0)))\n",
    "predT2 = np.log(1+np.exp(Xtest2.dot(beta1)))\n",
    "predT3 = np.log(1+np.exp(Xtest3.dot(beta3)))\n",
    "\n",
    "predT1 = classificate(predT1)\n",
    "predT2 = classificate(predT2)\n",
    "predT3 = classificate(predT3)"
   ]
  },
  {
   "cell_type": "code",
   "execution_count": 133,
   "metadata": {},
   "outputs": [],
   "source": [
    "def remise0(data):\n",
    "    data[data == -1] = 0\n",
    "    return(data)"
   ]
  },
  {
   "cell_type": "code",
   "execution_count": 134,
   "metadata": {},
   "outputs": [],
   "source": [
    "predT1 = remise0(predT1)\n",
    "predT2 = remise0(predT2)\n",
    "predT3 = remise0(predT3)"
   ]
  },
  {
   "cell_type": "code",
   "execution_count": 149,
   "metadata": {},
   "outputs": [],
   "source": [
    "rendu = np.hstack((predT1, predT2,predT3))\n",
    "data = { \"Id\": range(3000), \"Bound\" : rendu}\n",
    "\n",
    "df = pd.DataFrame(data, columns = [\"Id\",\"Bound\"])"
   ]
  },
  {
   "cell_type": "code",
   "execution_count": 150,
   "metadata": {},
   "outputs": [
    {
     "data": {
      "text/plain": [
       "Id       int64\n",
       "Bound    int64\n",
       "dtype: object"
      ]
     },
     "execution_count": 150,
     "metadata": {},
     "output_type": "execute_result"
    }
   ],
   "source": [
    "df = df.astype(int)"
   ]
  },
  {
   "cell_type": "code",
   "execution_count": 151,
   "metadata": {},
   "outputs": [],
   "source": [
    "df.to_csv(\"/users/dorian/Documents/M2_MASH/Kernel Methods/Data/resultats.csv\", index = False)"
   ]
  },
  {
   "cell_type": "markdown",
   "metadata": {},
   "source": [
    "## Essai en comptant le nombre d 'occurences"
   ]
  },
  {
   "cell_type": "code",
   "execution_count": 328,
   "metadata": {},
   "outputs": [],
   "source": [
    "def compte(ADN):\n",
    "    compteurA = sum(elem == \"A\" for elem in ADN)\n",
    "    compteurC = sum(elem == \"C\" for elem in ADN)\n",
    "    compteurG =sum( elem == \"G\" for elem in ADN)\n",
    "    compteurT =sum( elem == \"T\" for elem in ADN)\n",
    "    \n",
    "    return((compteurA,compteurC,compteurG,compteurT))"
   ]
  },
  {
   "cell_type": "code",
   "execution_count": 332,
   "metadata": {},
   "outputs": [],
   "source": [
    "matrice = np.zeros((n,4))\n",
    "matrice2 = np.zeros((n,4))\n",
    "matrice3 = np.zeros((n,4))\n",
    "\n",
    "for j in range(n):\n",
    "    matrice[j,] = compte(training.iloc[j,1])\n",
    "    matrice2[j,] = compte(training2.iloc[j,1])\n",
    "    matrice3[j,] = compte(training3.iloc[j,1])"
   ]
  },
  {
   "cell_type": "code",
   "execution_count": 356,
   "metadata": {},
   "outputs": [],
   "source": [
    "weights = solveLRR(y,matrice,0.1)\n",
    "weights2 = solveLRR(y2,matrice2,0.01)\n",
    "weights3 = solveLRR(y3,matrice3,0.01)\n",
    "\n",
    "probas = np.log(1+np.exp(matrice.dot(weights)))\n",
    "probas2 = np.log(1+np.exp(matrice2.dot(weights2)))\n",
    "probas3 = np.log(1+np.exp(matrice3.dot(weights3)))\n",
    "\n",
    "probas = classificate(probas)\n",
    "probas2 = classificate(probas2)\n",
    "probas3 = classificate(probas3)"
   ]
  },
  {
   "cell_type": "code",
   "execution_count": 358,
   "metadata": {},
   "outputs": [
    {
     "data": {
      "text/plain": [
       "0.519"
      ]
     },
     "execution_count": 358,
     "metadata": {},
     "output_type": "execute_result"
    }
   ],
   "source": [
    "error(probas,y)\n"
   ]
  },
  {
   "cell_type": "code",
   "execution_count": 359,
   "metadata": {},
   "outputs": [
    {
     "data": {
      "text/plain": [
       "0.4995"
      ]
     },
     "execution_count": 359,
     "metadata": {},
     "output_type": "execute_result"
    }
   ],
   "source": [
    "error(probas2,y2)"
   ]
  },
  {
   "cell_type": "code",
   "execution_count": 360,
   "metadata": {},
   "outputs": [
    {
     "data": {
      "text/plain": [
       "0.5015"
      ]
     },
     "execution_count": 360,
     "metadata": {},
     "output_type": "execute_result"
    }
   ],
   "source": [
    "error(probas3,y3)"
   ]
  },
  {
   "cell_type": "markdown",
   "metadata": {},
   "source": [
    "## Kernel logistic regression "
   ]
  },
  {
   "cell_type": "code",
   "execution_count": 375,
   "metadata": {},
   "outputs": [],
   "source": [
    "n = Xbis.shape[0]\n",
    "K1 = np.zeros((n,n))\n",
    "alpha = 0.01\n",
    "for i in range(n):\n",
    "    for j in range(n):\n",
    "        K1[i,j] = gaussK(Xbis[i,],Xbis[j,],alpha)"
   ]
  },
  {
   "cell_type": "code",
   "execution_count": 462,
   "metadata": {},
   "outputs": [],
   "source": [
    "n = Xbis.shape[0]\n",
    "K2 = np.zeros((n,n))\n",
    "K3 = np.zeros((n,n))\n",
    "alpha = 0.01\n",
    "for i in range(n):\n",
    "    for j in range(n):\n",
    "        K2[i,j] = gaussK(Xter[i,],Xter[j,],alpha)\n",
    "        K3[i,j] = gaussK(X3[i,],X3[j,],alpha)"
   ]
  },
  {
   "cell_type": "code",
   "execution_count": 548,
   "metadata": {},
   "outputs": [],
   "source": [
    "def logistic_loss(u):\n",
    "    return(np.log(1+np.exp(-u)))\n",
    "def derive(u):\n",
    "    return(-logistic_loss(-u))\n",
    "def derive2(u):\n",
    "    return(logistic_loss(u)*logistic_loss(-u))\n",
    "\n",
    "\n",
    "def P(alpha,K,y):\n",
    "    P = np.eye(K.shape[0])\n",
    "    product = K.dot(alpha)\n",
    "    for i in range(K.shape[0]):\n",
    "        P[i,i] = derive(y[i]*product[i])\n",
    "    return (P)\n",
    "\n",
    "def KLL(K,y,lam):\n",
    "    alpha = np.zeros((K.shape[0],1))\n",
    "    n_iter = 100\n",
    "    step = 0.001\n",
    "    n = K.shape[0]\n",
    "    P = np.eye(n)\n",
    "\n",
    "    for i in range(n_iter):\n",
    "        alpha = alpha - step * ((1/n*K.dot(P(alpha,K,y)).dot(y)).reshape(-1,1)) #+ lam*K.dot(alpha))\n",
    "    return(alpha)\n",
    "               \n",
    "    \n",
    "    "
   ]
  },
  {
   "cell_type": "code",
   "execution_count": 578,
   "metadata": {},
   "outputs": [
    {
     "name": "stdout",
     "output_type": "stream",
     "text": [
      "(2000, 1) (2000, 1) (2000, 1)\n",
      "[[-0.00555677]\n",
      " [-0.00539191]\n",
      " [-0.0057093 ]\n",
      " ...\n",
      " [-0.00544878]\n",
      " [-0.00666282]\n",
      " [-0.00558923]]\n"
     ]
    }
   ],
   "source": [
    "alpha = np.zeros((K1.shape[0],1))\n",
    "rd = (K1.dot(P(alpha,K1,y)).dot(y)).reshape(-1,1)\n",
    "print(alpha.shape,rd.shape, (K1.dot(alpha)).shape)\n",
    "\n",
    "\n",
    "for i in range(30):\n",
    "    alpha = alpha - 0.01 * ((1/n*K1.dot(P(alpha,K1,y)).dot(y)).reshape(-1,1) + 0.1*K1.dot(alpha))\n",
    "print(alpha)"
   ]
  },
  {
   "cell_type": "code",
   "execution_count": 576,
   "metadata": {},
   "outputs": [
    {
     "ename": "TypeError",
     "evalue": "'numpy.ndarray' object is not callable",
     "output_type": "error",
     "traceback": [
      "\u001b[0;31m---------------------------------------------------------------------------\u001b[0m",
      "\u001b[0;31mTypeError\u001b[0m                                 Traceback (most recent call last)",
      "\u001b[0;32m<ipython-input-576-a952f3b4ab3a>\u001b[0m in \u001b[0;36m<module>\u001b[0;34m\u001b[0m\n\u001b[0;32m----> 1\u001b[0;31m \u001b[0malpha1\u001b[0m \u001b[0;34m=\u001b[0m \u001b[0mKLL\u001b[0m\u001b[0;34m(\u001b[0m\u001b[0mK1\u001b[0m\u001b[0;34m,\u001b[0m\u001b[0my\u001b[0m\u001b[0;34m,\u001b[0m\u001b[0;36m0.01\u001b[0m\u001b[0;34m)\u001b[0m \u001b[0;31m# Etrange marche pas dans la boucle de KLL mais marche au dessus\u001b[0m\u001b[0;34m\u001b[0m\u001b[0;34m\u001b[0m\u001b[0m\n\u001b[0m",
      "\u001b[0;32m<ipython-input-548-2ea2c4ef94cd>\u001b[0m in \u001b[0;36mKLL\u001b[0;34m(K, y, lam)\u001b[0m\n\u001b[1;32m     22\u001b[0m \u001b[0;34m\u001b[0m\u001b[0m\n\u001b[1;32m     23\u001b[0m     \u001b[0;32mfor\u001b[0m \u001b[0mi\u001b[0m \u001b[0;32min\u001b[0m \u001b[0mrange\u001b[0m\u001b[0;34m(\u001b[0m\u001b[0mn_iter\u001b[0m\u001b[0;34m)\u001b[0m\u001b[0;34m:\u001b[0m\u001b[0;34m\u001b[0m\u001b[0;34m\u001b[0m\u001b[0m\n\u001b[0;32m---> 24\u001b[0;31m         \u001b[0malpha\u001b[0m \u001b[0;34m=\u001b[0m \u001b[0malpha\u001b[0m \u001b[0;34m-\u001b[0m \u001b[0mstep\u001b[0m \u001b[0;34m*\u001b[0m \u001b[0;34m(\u001b[0m\u001b[0;34m(\u001b[0m\u001b[0;36m1\u001b[0m\u001b[0;34m/\u001b[0m\u001b[0mn\u001b[0m\u001b[0;34m*\u001b[0m\u001b[0mK\u001b[0m\u001b[0;34m.\u001b[0m\u001b[0mdot\u001b[0m\u001b[0;34m(\u001b[0m\u001b[0mP\u001b[0m\u001b[0;34m(\u001b[0m\u001b[0malpha\u001b[0m\u001b[0;34m,\u001b[0m\u001b[0mK\u001b[0m\u001b[0;34m,\u001b[0m\u001b[0my\u001b[0m\u001b[0;34m)\u001b[0m\u001b[0;34m)\u001b[0m\u001b[0;34m.\u001b[0m\u001b[0mdot\u001b[0m\u001b[0;34m(\u001b[0m\u001b[0my\u001b[0m\u001b[0;34m)\u001b[0m\u001b[0;34m)\u001b[0m\u001b[0;34m.\u001b[0m\u001b[0mreshape\u001b[0m\u001b[0;34m(\u001b[0m\u001b[0;34m-\u001b[0m\u001b[0;36m1\u001b[0m\u001b[0;34m,\u001b[0m\u001b[0;36m1\u001b[0m\u001b[0;34m)\u001b[0m\u001b[0;34m)\u001b[0m \u001b[0;31m#+ lam*K.dot(alpha))\u001b[0m\u001b[0;34m\u001b[0m\u001b[0;34m\u001b[0m\u001b[0m\n\u001b[0m\u001b[1;32m     25\u001b[0m     \u001b[0;32mreturn\u001b[0m\u001b[0;34m(\u001b[0m\u001b[0malpha\u001b[0m\u001b[0;34m)\u001b[0m\u001b[0;34m\u001b[0m\u001b[0;34m\u001b[0m\u001b[0m\n\u001b[1;32m     26\u001b[0m \u001b[0;34m\u001b[0m\u001b[0m\n",
      "\u001b[0;31mTypeError\u001b[0m: 'numpy.ndarray' object is not callable"
     ]
    }
   ],
   "source": [
    "alpha1 = KLL(K1,y,0.01) # Etrange marche pas dans la boucle de KLL mais marche au dessus"
   ]
  },
  {
   "cell_type": "markdown",
   "metadata": {},
   "source": [
    "## KLR avec approximation"
   ]
  },
  {
   "cell_type": "code",
   "execution_count": 473,
   "metadata": {},
   "outputs": [],
   "source": [
    "yprediction = Ridge(K1,y,0.001)\n",
    "for i in range(yprediction.shape[0]):\n",
    "    if yprediction[i] >= 0 : \n",
    "        yprediction[i] = 1\n",
    "    else:\n",
    "        yprediction[i] = -1\n",
    "        \n",
    "yprediction2 = Ridge(K2,y2,0.001)\n",
    "for i in range(yprediction.shape[0]):\n",
    "    if yprediction2[i] >= 0 :\n",
    "        yprediction2[i] = 1\n",
    "    else:\n",
    "        yprediction2[i] = -1\n",
    "        \n",
    "yprediction3 = Ridge(K3,y3,0.001)\n",
    "for i in range(yprediction.shape[0]):\n",
    "    if yprediction3[i] >= 0 :\n",
    "        yprediction3[i] = 1\n",
    "    else:\n",
    "        yprediction3[i] = -1"
   ]
  },
  {
   "cell_type": "code",
   "execution_count": 475,
   "metadata": {},
   "outputs": [
    {
     "data": {
      "text/plain": [
       "0.072"
      ]
     },
     "execution_count": 475,
     "metadata": {},
     "output_type": "execute_result"
    }
   ],
   "source": [
    "error(yprediction,y)"
   ]
  },
  {
   "cell_type": "code",
   "execution_count": 718,
   "metadata": {},
   "outputs": [
    {
     "data": {
      "text/plain": [
       "0.044"
      ]
     },
     "execution_count": 718,
     "metadata": {},
     "output_type": "execute_result"
    }
   ],
   "source": [
    "error(yprediction2,y2)"
   ]
  },
  {
   "cell_type": "code",
   "execution_count": 506,
   "metadata": {},
   "outputs": [
    {
     "data": {
      "text/plain": [
       "0.076"
      ]
     },
     "execution_count": 506,
     "metadata": {},
     "output_type": "execute_result"
    }
   ],
   "source": [
    "error(yprediction3,y3)"
   ]
  },
  {
   "cell_type": "markdown",
   "metadata": {},
   "source": [
    "## Essai avec les test sets\n"
   ]
  },
  {
   "cell_type": "code",
   "execution_count": 540,
   "metadata": {},
   "outputs": [],
   "source": [
    "size = Xtest1.shape[0]"
   ]
  },
  {
   "cell_type": "code",
   "execution_count": 489,
   "metadata": {},
   "outputs": [],
   "source": [
    "alpha1 = get_alpha(K1,y,0.001)\n",
    "alpha2 = get_alpha(K2,y2,0.001)\n",
    "alpha3 = get_alpha(K3,y3,0.001)"
   ]
  },
  {
   "cell_type": "code",
   "execution_count": 527,
   "metadata": {},
   "outputs": [],
   "source": [
    "ytest1 = np.zeros((size,1))\n",
    "ytest2 = np.zeros((size,1))\n",
    "ytest3 = np.zeros((size,1))\n",
    "\n",
    "for i in range(size):\n",
    "    summ1=0\n",
    "    summ2 =0\n",
    "    summ3=0\n",
    "    for j in range(n):\n",
    "        summ1 += alpha1[j]*gaussK(Xtest1[i,],Xbis[j,],0.01)\n",
    "        summ2 += alpha2[j]*gaussK(Xtest2[i,],Xter[j,],0.01)\n",
    "        summ3 += alpha3[j]*gaussK(Xtest3[i,],X3[j,],0.01)\n",
    "    ytest1[i] = summ1\n",
    "    ytest2[i] = summ2\n",
    "    ytest3[i] = summ3"
   ]
  },
  {
   "cell_type": "code",
   "execution_count": 533,
   "metadata": {},
   "outputs": [],
   "source": [
    "YT = np.vstack((ytest1,ytest2,ytest3))\n",
    "for i in range(YT.shape[0]):\n",
    "    if np.abs(YT[i] - 1) < np.abs(YT[i] + 1):\n",
    "        YT[i] = 1\n",
    "    else:\n",
    "        YT[i] = -1\n",
    "        \n",
    "YT = remise0(YT)"
   ]
  },
  {
   "cell_type": "code",
   "execution_count": 534,
   "metadata": {},
   "outputs": [
    {
     "data": {
      "text/plain": [
       "Id       int64\n",
       "Bound    int64\n",
       "dtype: object"
      ]
     },
     "execution_count": 534,
     "metadata": {},
     "output_type": "execute_result"
    }
   ],
   "source": [
    "data = { \"Id\": range(3000), \"Bound\" : YT[:,0]}\n",
    "\n",
    "df = pd.DataFrame(data, columns = [\"Id\",\"Bound\"])\n",
    "df = df.astype(int)"
   ]
  },
  {
   "cell_type": "code",
   "execution_count": 538,
   "metadata": {},
   "outputs": [],
   "source": [
    "df.to_csv(\"/users/dorian/Documents/M2_MASH/Kernel Methods/Data/resultats2.csv\", index = False)"
   ]
  },
  {
   "cell_type": "markdown",
   "metadata": {},
   "source": [
    "## Substring indexation"
   ]
  },
  {
   "cell_type": "code",
   "execution_count": 685,
   "metadata": {},
   "outputs": [],
   "source": [
    "length_substring = 3\n",
    "substring = set()\n",
    "reference = training.iloc[1,1] # Pris au hasard\n",
    "for i in range((101-length_substring)): #101 longeur de l'ADN\n",
    "    substring.add(reference[i:i+length_substring])\n",
    "    \n",
    "nb_variables = len(substring)"
   ]
  },
  {
   "cell_type": "code",
   "execution_count": 686,
   "metadata": {},
   "outputs": [],
   "source": [
    "substring = list(substring) # Set non indexable et pas accessible -> conversion list"
   ]
  },
  {
   "cell_type": "code",
   "execution_count": 687,
   "metadata": {},
   "outputs": [],
   "source": [
    "def create_features(X,nb_var, substring): #nb_var = len(substring)\n",
    "    n = X.shape[0]\n",
    "    output = np.zeros((n,nb_var))\n",
    "    for i in range(n):\n",
    "        for j in range(len(substring)):\n",
    "            output[i,j] = X[i].count(substring[j])\n",
    "    return(output)\n",
    "\n",
    "def create_GaussKernel(X,sig):\n",
    "    n = X.shape[0]\n",
    "    K = np.zeros((n,n))\n",
    "    for i in range(n):\n",
    "        for j in range(n):\n",
    "            K[i,j] = gaussK(X[i,],X[j,],sig)  #fonction au debut\n",
    "    return(K)\n",
    "    "
   ]
  },
  {
   "cell_type": "code",
   "execution_count": 688,
   "metadata": {},
   "outputs": [],
   "source": [
    "obs1 = create_features(training.iloc[:,1], nb_variables,substring)\n",
    "obs2 = create_features(training2.iloc[:,1], nb_variables,substring)\n",
    "obs3 = create_features(training3.iloc[:,1], nb_variables,substring)"
   ]
  },
  {
   "cell_type": "code",
   "execution_count": 639,
   "metadata": {},
   "outputs": [],
   "source": [
    "K1 = create_GaussKernel(obs1,0.01)"
   ]
  },
  {
   "cell_type": "code",
   "execution_count": 640,
   "metadata": {},
   "outputs": [],
   "source": [
    "K2 = create_GaussKernel(obs2,0.01)\n",
    "K3 = create_GaussKernel(obs3,0.01)"
   ]
  },
  {
   "cell_type": "markdown",
   "metadata": {},
   "source": [
    "## Erreur training"
   ]
  },
  {
   "cell_type": "code",
   "execution_count": 713,
   "metadata": {},
   "outputs": [],
   "source": [
    "alpha1 = get_alpha(K1,y,0.001) # A fazire avec 0.01 eet 0.1\n",
    "alpha2 = get_alpha(K2,y2,0.001)\n",
    "alpha3 = get_alpha(K3,y3,0.001)\n",
    "\n",
    "y_tr1 = Ridge(K1,y,0.01)\n",
    "y_tr2 = Ridge(K2,y2,0.01)\n",
    "y_tr3 = Ridge(K3,y3,0.01)"
   ]
  },
  {
   "cell_type": "code",
   "execution_count": 694,
   "metadata": {},
   "outputs": [
    {
     "data": {
      "text/plain": [
       "0.3265"
      ]
     },
     "execution_count": 694,
     "metadata": {},
     "output_type": "execute_result"
    }
   ],
   "source": [
    "y_tr1[y_tr1 > 0] = 1\n",
    "y_tr1[y_tr1 <= 0] = -1\n",
    "error(y_tr1,y)"
   ]
  },
  {
   "cell_type": "code",
   "execution_count": 695,
   "metadata": {},
   "outputs": [
    {
     "data": {
      "text/plain": [
       "0.3245"
      ]
     },
     "execution_count": 695,
     "metadata": {},
     "output_type": "execute_result"
    }
   ],
   "source": [
    "y_tr2[y_tr2 > 0] = 1\n",
    "y_tr2[y_tr2 <= 0] = -1\n",
    "error(y_tr2,y2)"
   ]
  },
  {
   "cell_type": "code",
   "execution_count": 714,
   "metadata": {},
   "outputs": [],
   "source": [
    "ytest1 = np.zeros((size,1))\n",
    "ytest2 = np.zeros((size,1))\n",
    "ytest3 = np.zeros((size,1))\n",
    "\n",
    "for i in range(size):\n",
    "    summ1=0\n",
    "    summ2 =0\n",
    "    summ3=0\n",
    "    for j in range(n):\n",
    "        summ1 += alpha1[j]*gaussK(Xtest1[i,],Xbis[j,],0.01)\n",
    "        summ2 += alpha2[j]*gaussK(Xtest2[i,],Xter[j,],0.01)\n",
    "        summ3 += alpha3[j]*gaussK(Xtest3[i,],X3[j,],0.01)\n",
    "    ytest1[i] = summ1\n",
    "    ytest2[i] = summ2\n",
    "    ytest3[i] = summ3"
   ]
  },
  {
   "cell_type": "code",
   "execution_count": 715,
   "metadata": {},
   "outputs": [
    {
     "data": {
      "text/plain": [
       "Id       int64\n",
       "Bound    int64\n",
       "dtype: object"
      ]
     },
     "execution_count": 715,
     "metadata": {},
     "output_type": "execute_result"
    }
   ],
   "source": [
    "YT = np.vstack((ytest1,ytest2,ytest3))\n",
    "for i in range(YT.shape[0]):\n",
    "    if np.abs(YT[i] - 1) < np.abs(YT[i] + 1):\n",
    "        YT[i] = 1\n",
    "    else:\n",
    "        YT[i] = -1\n",
    "        \n",
    "YT = remise0(YT)\n",
    "data = { \"Id\": range(3000), \"Bound\" : YT[:,0]}\n",
    "\n",
    "df = pd.DataFrame(data, columns = [\"Id\",\"Bound\"])\n",
    "df = df.astype(int)"
   ]
  },
  {
   "cell_type": "code",
   "execution_count": 717,
   "metadata": {},
   "outputs": [],
   "source": [
    "df.to_csv(\"/users/dorian/Documents/M2_MASH/Kernel Methods/Data/resultats3.csv\", index = False)"
   ]
  },
  {
   "cell_type": "markdown",
   "metadata": {},
   "source": [
    "# SVM"
   ]
  },
  {
   "cell_type": "code",
   "execution_count": null,
   "metadata": {},
   "outputs": [],
   "source": [
    "def gaussian_kernel(x, y, alpha=5):\n",
    "    return np.exp(-alpha*np.linalg.norm(x-y)**2)\n",
    "\n",
    "def precision(x, y):\n",
    "    rep = (np.array(x).flatten()*np.array(y).flatten() > 0)*1\n",
    "    return np.mean(rep)\n",
    "\n",
    "def SVM_hyperparameters(alpha, Xtr, Ytr, kernel, n_train, C):\n",
    "    \n",
    "    n = Xtr.shape[0]\n",
    "    n_valid = n - n_train\n",
    "    \n",
    "    X_train = Xtr[0:n_train]\n",
    "    X_valid = Xtr[n_train:n]\n",
    "    \n",
    "    y = Ytr*2 - 1\n",
    "\n",
    "    y_train = y[0:n_train]\n",
    "    y_valid = y[n_train:n]\n",
    "    \n",
    "    Y_diag = np.diag(y_train) * 1.\n",
    "    \n",
    "    y_train = y_train.reshape(-1,1) * 1.\n",
    "    \n",
    "    K = np.zeros((n_train, n_train))\n",
    "    for i in range(n_train):\n",
    "        for j in range(n_train):\n",
    "            K[i,j] = kernel(X_train[i], X_train[j], alpha)\n",
    "    \n",
    "    borne_sup = np.repeat(C, n_train)\n",
    "    borne_inf = np.zeros(n_train)\n",
    "    borne = np.concatenate((borne_sup, borne_inf), axis=None)\n",
    "    borne = borne.reshape(-1, 1) * 1.\n",
    "    \n",
    "    ing = np.concatenate((Y_diag, -Y_diag), axis=0)\n",
    "        \n",
    "    P = cvxopt_matrix(K, tc='d')\n",
    "    q = cvxopt_matrix(-y_train, tc='d')\n",
    "    h = cvxopt_matrix(borne, tc='d')\n",
    "    G = cvxopt_matrix(ing, tc='d')\n",
    "    \n",
    "    sol = cvxopt_solvers.qp(P,q,G,h)\n",
    "    a = np.array(sol['x']).flatten()\n",
    "        \n",
    "    prediction = np.zeros(n_valid)\n",
    "    for i in range(n_valid):\n",
    "        pred = 0\n",
    "        for j in range(n_train):\n",
    "            pred = pred + a[j]*kernel(X_train[j], X_valid[i], alpha)\n",
    "        prediction[i] = pred  \n",
    "        \n",
    "    return precision(prediction_final, y_valid)\n",
    "\n",
    "def SVM_predict(alpha, Xtr, Ytr, kernel, n_train, C, biais = False):\n",
    "    \n",
    "    n = Xtr.shape[0]\n",
    "    n_valid = n - n_train\n",
    "    \n",
    "    X_train = Xtr[0:n_train]\n",
    "    X_valid = Xtr[n_train:n]\n",
    "    \n",
    "    y = Ytr*2 - 1\n",
    "\n",
    "    y_train = y[0:n_train]\n",
    "    \n",
    "    Y_diag = np.diag(y_train) * 1.\n",
    "    \n",
    "    y_train = y_train.reshape(-1,1) * 1.\n",
    "    \n",
    "    K = np.zeros((n_train, n_train))\n",
    "    for i in range(n_train):\n",
    "        for j in range(n_train):\n",
    "            K[i,j] = kernel(X_train[i], X_train[j], alpha)\n",
    "    \n",
    "    borne_sup = np.repeat(C, n_train)\n",
    "    borne_inf = np.zeros(n_train)\n",
    "    borne = np.concatenate((borne_sup, borne_inf), axis=None)\n",
    "    borne = borne.reshape(-1, 1) * 1.\n",
    "    \n",
    "    ing = np.concatenate((Y_diag, -Y_diag), axis=0)\n",
    "        \n",
    "    P = cvxopt_matrix(K, tc='d')\n",
    "    q = cvxopt_matrix(-y_train, tc='d')\n",
    "    h = cvxopt_matrix(borne, tc='d')\n",
    "    G = cvxopt_matrix(ing, tc='d')\n",
    "    \n",
    "    sol = cvxopt_solvers.qp(P,q,G,h)\n",
    "    a = np.array(sol['x']).flatten()\n",
    "        \n",
    "    prediction = np.zeros(n_valid)\n",
    "    for i in range(n_valid):\n",
    "        pred = 0\n",
    "        for j in range(n_train):\n",
    "            pred = pred + a[j]*kernel(X_train[j], X_valid[i], alpha)\n",
    "        prediction[i] = pred  \n",
    "     \n",
    "    b = 0\n",
    "        \n",
    "    y_train = y_train.flatten().astype(int)\n",
    "    for i in range(n_train):\n",
    "        b = b + y_train[i]\n",
    "        s = 0\n",
    "        for j in range(n_train):\n",
    "            s = s + a[j]*kernel(X_train[j], X_train[i], alpha)/(C*n_train)\n",
    "        b = b - s\n",
    "    b = b/n_train\n",
    "    \n",
    "    if biais:\n",
    "        prediction_final = np.sign(prediction+b)\n",
    "    else : \n",
    "        prediction_final = np.sign(prediction)\n",
    "    \n",
    "    return prediction_final"
   ]
  },
  {
   "cell_type": "markdown",
   "metadata": {},
   "source": [
    "## Grid search first set"
   ]
  },
  {
   "cell_type": "code",
   "execution_count": null,
   "metadata": {},
   "outputs": [],
   "source": [
    "list_C_1 = np.linspace(0.01, 0.1, 10)\n",
    "list_s_1 = np.linspace(400, 700, 31) \n",
    "\n",
    "result_svm1 = np.zeros((10, 31))\n",
    "for i in range(len(list_C_1)):\n",
    "    for j in range(len(list_s_1)):\n",
    "        result_svm1[i, j] = SVM_hyperparameters(list_s_1[j], Xtr0_mat100, Y0, gaussian_kernel, 1800, list_C_1[i])\n",
    "        \n",
    "c1_svm, s1_svm = np.unravel_index(result_svm1.argmax(), result_svm1.shape)"
   ]
  },
  {
   "cell_type": "markdown",
   "metadata": {},
   "source": [
    "## Grid search second set"
   ]
  },
  {
   "cell_type": "code",
   "execution_count": null,
   "metadata": {},
   "outputs": [],
   "source": [
    "list_C_2 = np.linspace(0.01, 0.1, 10)\n",
    "list_s_2 = np.linspace(200, 500, 31) \n",
    "\n",
    "result_svm2 = np.zeros((10, 31))\n",
    "for i in range(len(list_C_2)):\n",
    "    for j in range(len(list_s_2)):\n",
    "        result_svm2[i, j] = SVM_hyperparameters(list_s_2[j], Xtr1_mat100, Y1, gaussian_kernel, 1800, list_C_2[i])\n",
    "        \n",
    "c2_svm, s2_svm = np.unravel_index(result_svm2.argmax(), result_svm2.shape)"
   ]
  },
  {
   "cell_type": "markdown",
   "metadata": {},
   "source": [
    "## Grid search third set"
   ]
  },
  {
   "cell_type": "code",
   "execution_count": null,
   "metadata": {},
   "outputs": [],
   "source": [
    "list_C_3 = np.linspace(0.01, 0.1, 10)\n",
    "list_s_3 = np.linspace(50, 100, 101) \n",
    "\n",
    "result_svm3 = np.zeros((10, 101))\n",
    "for i in range(len(list_C_3)):\n",
    "    for j in range(len(list_s_3)):\n",
    "        result_svm3[i, j] = SVM_hyperparameters(list_s_3[j], Xtr2_mat100, Y2, gaussian_kernel, 1800, list_C_3[i])\n",
    "        \n",
    "c3_svm, s3_svm = np.unravel_index(result_svm3.argmax(), result_svm3.shape)"
   ]
  },
  {
   "cell_type": "markdown",
   "metadata": {},
   "source": [
    "## Predictions "
   ]
  },
  {
   "cell_type": "code",
   "execution_count": null,
   "metadata": {},
   "outputs": [],
   "source": [
    "Y_svm1 = SVM_predict(list_s_1[s1_svm], X0, Y0, gaussian_kernel, 2000, list_C_1[c1_svm])\n",
    "Y_svm2 = SVM_predict(list_s_2[s2_svm], X1, Y1, gaussian_kernel, 2000, list_C_2[c2_svm])\n",
    "Y_svm3 = SVM_predict(list_s_3[s3_svm], X2, Y2, gaussian_kernel, 2000, list_C_3[c3_svm])"
   ]
  },
  {
   "cell_type": "code",
   "execution_count": null,
   "metadata": {},
   "outputs": [],
   "source": [
    "Y_svm = np.concatenate((Y_svm1, Y_svm2, Y_svm3), axis=None)\n",
    "Y_svm = (Y_svm+1)/2\n",
    "Y_svm = Y_svm.astype(int)"
   ]
  },
  {
   "cell_type": "code",
   "execution_count": null,
   "metadata": {},
   "outputs": [],
   "source": [
    "prediction = pd.DataFrame({'Id' : np.arange(3000), \"Bound\": Y_svm})"
   ]
  },
  {
   "cell_type": "code",
   "execution_count": null,
   "metadata": {},
   "outputs": [],
   "source": [
    "prediction.to_csv('prediction_svm.csv', index=False)"
   ]
  }
 ],
 "metadata": {
  "kernelspec": {
   "display_name": "Python 3",
   "language": "python",
   "name": "python3"
  },
  "language_info": {
   "codemirror_mode": {
    "name": "ipython",
    "version": 3
   },
   "file_extension": ".py",
   "mimetype": "text/x-python",
   "name": "python",
   "nbconvert_exporter": "python",
   "pygments_lexer": "ipython3",
   "version": "3.8.3"
  }
 },
 "nbformat": 4,
 "nbformat_minor": 4
}
